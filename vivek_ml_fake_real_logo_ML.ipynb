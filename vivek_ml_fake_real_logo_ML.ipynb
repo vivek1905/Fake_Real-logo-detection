{
  "metadata": {
    "kernelspec": {
      "language": "python",
      "display_name": "Python 3",
      "name": "python3"
    },
    "language_info": {
      "name": "python",
      "version": "3.10.12",
      "mimetype": "text/x-python",
      "codemirror_mode": {
        "name": "ipython",
        "version": 3
      },
      "pygments_lexer": "ipython3",
      "nbconvert_exporter": "python",
      "file_extension": ".py"
    },
    "kaggle": {
      "accelerator": "none",
      "dataSources": [
        {
          "sourceId": 5718912,
          "sourceType": "datasetVersion",
          "datasetId": 3283541
        },
        {
          "sourceId": 6980561,
          "sourceType": "datasetVersion",
          "datasetId": 4011501
        },
        {
          "sourceId": 6980800,
          "sourceType": "datasetVersion",
          "datasetId": 4011667
        }
      ],
      "dockerImageVersionId": 30587,
      "isInternetEnabled": true,
      "language": "python",
      "sourceType": "notebook",
      "isGpuEnabled": false
    },
    "colab": {
      "provenance": [],
      "include_colab_link": true
    }
  },
  "nbformat_minor": 0,
  "nbformat": 4,
  "cells": [
    {
      "cell_type": "markdown",
      "metadata": {
        "id": "view-in-github",
        "colab_type": "text"
      },
      "source": [
        "<a href=\"https://colab.research.google.com/github/vivek1905/Fake_Real-logo-detection/blob/main/vivek_ml_fake_real_logo_ML.ipynb\" target=\"_parent\"><img src=\"https://colab.research.google.com/assets/colab-badge.svg\" alt=\"Open In Colab\"/></a>"
      ]
    },
    {
      "cell_type": "code",
      "source": [
        "import os\n",
        "import cv2\n",
        "import pandas as pd\n",
        "import numpy as np\n",
        "import matplotlib.pyplot as plt\n",
        "from sklearn import preprocessing\n",
        "import tensorflow as tf\n",
        "from tensorflow.keras.preprocessing.image import img_to_array\n",
        "from tensorflow.keras.applications.mobilenet import preprocess_input\n",
        "from tensorflow.keras.models import Model\n",
        "from tensorflow.keras.callbacks import EarlyStopping\n",
        "from tensorflow.keras.layers import Input, Flatten, Dense, GlobalAveragePooling2D\n",
        "from sklearn.model_selection import train_test_split\n",
        "from sklearn.metrics import classification_report"
      ],
      "metadata": {
        "_uuid": "8f2839f25d086af736a60e9eeb907d3b93b6e0e5",
        "_cell_guid": "b1076dfc-b9ad-4769-8c92-a6c4dae69d19",
        "execution": {
          "iopub.status.busy": "2023-11-18T09:27:02.171857Z",
          "iopub.execute_input": "2023-11-18T09:27:02.172726Z",
          "iopub.status.idle": "2023-11-18T09:27:02.181110Z",
          "shell.execute_reply.started": "2023-11-18T09:27:02.172689Z",
          "shell.execute_reply": "2023-11-18T09:27:02.180020Z"
        },
        "trusted": true,
        "id": "CheVgK_ny0nx"
      },
      "execution_count": null,
      "outputs": []
    },
    {
      "cell_type": "code",
      "source": [
        "import pandas as pd\n",
        "\n",
        "# Load the CSV file\n",
        "df = pd.read_csv('/content/file_mapping.csv')\n",
        "\n",
        "# Display the columns to check if 'Unnamed: 0' is present\n",
        "print(\"Columns before dropping 'Unnamed: 0':\", df.columns)\n",
        "\n",
        "# Drop 'Unnamed: 0' if it exists\n",
        "if 'Unnamed: 0' in df.columns:\n",
        "    df.drop('Unnamed: 0', axis=1, inplace=True)\n",
        "    print(\"Column 'Unnamed: 0' dropped.\")\n",
        "else:\n",
        "    print(\"Column 'Unnamed: 0' not found in DataFrame.\")\n",
        "\n",
        "# Display the first few rows of the DataFrame\n",
        "df.head()\n"
      ],
      "metadata": {
        "execution": {
          "iopub.status.busy": "2023-11-18T09:27:04.239812Z",
          "iopub.execute_input": "2023-11-18T09:27:04.240667Z",
          "iopub.status.idle": "2023-11-18T09:27:04.311426Z",
          "shell.execute_reply.started": "2023-11-18T09:27:04.240632Z",
          "shell.execute_reply": "2023-11-18T09:27:04.309974Z"
        },
        "trusted": true,
        "id": "DlfJvRfLy0n2",
        "outputId": "151b9c94-c29a-43e4-d1c6-1057e6871617",
        "colab": {
          "base_uri": "https://localhost:8080/",
          "height": 241
        }
      },
      "execution_count": null,
      "outputs": [
        {
          "output_type": "stream",
          "name": "stdout",
          "text": [
            "Columns before dropping 'Unnamed: 0': Index(['Filename', 'Brand Name', 'Label', 'Tagline'], dtype='object')\n",
            "Column 'Unnamed: 0' not found in DataFrame.\n"
          ]
        },
        {
          "output_type": "execute_result",
          "data": {
            "text/plain": [
              "                         Filename   Brand Name    Label  \\\n",
              "0       output\\Cowbell\\000001.jpg      Cowbell  Genuine   \n",
              "1  genLogoOutput\\Rolex\\000003.jpg        Rolex     Fake   \n",
              "2   output\\PlayStation\\000005.jpg  PlayStation  Genuine   \n",
              "3       output\\YouTube\\000004.jpg      YouTube  Genuine   \n",
              "4   genLogoOutput\\Lays\\000004.jpg         Lays     Fake   \n",
              "\n",
              "                                             Tagline  \n",
              "0                            sooo creamy sooo gooood  \n",
              "1  antiophthalmic_factor crown for every accompli...  \n",
              "2                                        eNoS Lives.  \n",
              "3                                 Broadcast Yourself  \n",
              "4                               eNoS sprightliness .  "
            ],
            "text/html": [
              "\n",
              "  <div id=\"df-71954111-b778-435d-9192-afc49c1a62b1\" class=\"colab-df-container\">\n",
              "    <div>\n",
              "<style scoped>\n",
              "    .dataframe tbody tr th:only-of-type {\n",
              "        vertical-align: middle;\n",
              "    }\n",
              "\n",
              "    .dataframe tbody tr th {\n",
              "        vertical-align: top;\n",
              "    }\n",
              "\n",
              "    .dataframe thead th {\n",
              "        text-align: right;\n",
              "    }\n",
              "</style>\n",
              "<table border=\"1\" class=\"dataframe\">\n",
              "  <thead>\n",
              "    <tr style=\"text-align: right;\">\n",
              "      <th></th>\n",
              "      <th>Filename</th>\n",
              "      <th>Brand Name</th>\n",
              "      <th>Label</th>\n",
              "      <th>Tagline</th>\n",
              "    </tr>\n",
              "  </thead>\n",
              "  <tbody>\n",
              "    <tr>\n",
              "      <th>0</th>\n",
              "      <td>output\\Cowbell\\000001.jpg</td>\n",
              "      <td>Cowbell</td>\n",
              "      <td>Genuine</td>\n",
              "      <td>sooo creamy sooo gooood</td>\n",
              "    </tr>\n",
              "    <tr>\n",
              "      <th>1</th>\n",
              "      <td>genLogoOutput\\Rolex\\000003.jpg</td>\n",
              "      <td>Rolex</td>\n",
              "      <td>Fake</td>\n",
              "      <td>antiophthalmic_factor crown for every accompli...</td>\n",
              "    </tr>\n",
              "    <tr>\n",
              "      <th>2</th>\n",
              "      <td>output\\PlayStation\\000005.jpg</td>\n",
              "      <td>PlayStation</td>\n",
              "      <td>Genuine</td>\n",
              "      <td>eNoS Lives.</td>\n",
              "    </tr>\n",
              "    <tr>\n",
              "      <th>3</th>\n",
              "      <td>output\\YouTube\\000004.jpg</td>\n",
              "      <td>YouTube</td>\n",
              "      <td>Genuine</td>\n",
              "      <td>Broadcast Yourself</td>\n",
              "    </tr>\n",
              "    <tr>\n",
              "      <th>4</th>\n",
              "      <td>genLogoOutput\\Lays\\000004.jpg</td>\n",
              "      <td>Lays</td>\n",
              "      <td>Fake</td>\n",
              "      <td>eNoS sprightliness .</td>\n",
              "    </tr>\n",
              "  </tbody>\n",
              "</table>\n",
              "</div>\n",
              "    <div class=\"colab-df-buttons\">\n",
              "\n",
              "  <div class=\"colab-df-container\">\n",
              "    <button class=\"colab-df-convert\" onclick=\"convertToInteractive('df-71954111-b778-435d-9192-afc49c1a62b1')\"\n",
              "            title=\"Convert this dataframe to an interactive table.\"\n",
              "            style=\"display:none;\">\n",
              "\n",
              "  <svg xmlns=\"http://www.w3.org/2000/svg\" height=\"24px\" viewBox=\"0 -960 960 960\">\n",
              "    <path d=\"M120-120v-720h720v720H120Zm60-500h600v-160H180v160Zm220 220h160v-160H400v160Zm0 220h160v-160H400v160ZM180-400h160v-160H180v160Zm440 0h160v-160H620v160ZM180-180h160v-160H180v160Zm440 0h160v-160H620v160Z\"/>\n",
              "  </svg>\n",
              "    </button>\n",
              "\n",
              "  <style>\n",
              "    .colab-df-container {\n",
              "      display:flex;\n",
              "      gap: 12px;\n",
              "    }\n",
              "\n",
              "    .colab-df-convert {\n",
              "      background-color: #E8F0FE;\n",
              "      border: none;\n",
              "      border-radius: 50%;\n",
              "      cursor: pointer;\n",
              "      display: none;\n",
              "      fill: #1967D2;\n",
              "      height: 32px;\n",
              "      padding: 0 0 0 0;\n",
              "      width: 32px;\n",
              "    }\n",
              "\n",
              "    .colab-df-convert:hover {\n",
              "      background-color: #E2EBFA;\n",
              "      box-shadow: 0px 1px 2px rgba(60, 64, 67, 0.3), 0px 1px 3px 1px rgba(60, 64, 67, 0.15);\n",
              "      fill: #174EA6;\n",
              "    }\n",
              "\n",
              "    .colab-df-buttons div {\n",
              "      margin-bottom: 4px;\n",
              "    }\n",
              "\n",
              "    [theme=dark] .colab-df-convert {\n",
              "      background-color: #3B4455;\n",
              "      fill: #D2E3FC;\n",
              "    }\n",
              "\n",
              "    [theme=dark] .colab-df-convert:hover {\n",
              "      background-color: #434B5C;\n",
              "      box-shadow: 0px 1px 3px 1px rgba(0, 0, 0, 0.15);\n",
              "      filter: drop-shadow(0px 1px 2px rgba(0, 0, 0, 0.3));\n",
              "      fill: #FFFFFF;\n",
              "    }\n",
              "  </style>\n",
              "\n",
              "    <script>\n",
              "      const buttonEl =\n",
              "        document.querySelector('#df-71954111-b778-435d-9192-afc49c1a62b1 button.colab-df-convert');\n",
              "      buttonEl.style.display =\n",
              "        google.colab.kernel.accessAllowed ? 'block' : 'none';\n",
              "\n",
              "      async function convertToInteractive(key) {\n",
              "        const element = document.querySelector('#df-71954111-b778-435d-9192-afc49c1a62b1');\n",
              "        const dataTable =\n",
              "          await google.colab.kernel.invokeFunction('convertToInteractive',\n",
              "                                                    [key], {});\n",
              "        if (!dataTable) return;\n",
              "\n",
              "        const docLinkHtml = 'Like what you see? Visit the ' +\n",
              "          '<a target=\"_blank\" href=https://colab.research.google.com/notebooks/data_table.ipynb>data table notebook</a>'\n",
              "          + ' to learn more about interactive tables.';\n",
              "        element.innerHTML = '';\n",
              "        dataTable['output_type'] = 'display_data';\n",
              "        await google.colab.output.renderOutput(dataTable, element);\n",
              "        const docLink = document.createElement('div');\n",
              "        docLink.innerHTML = docLinkHtml;\n",
              "        element.appendChild(docLink);\n",
              "      }\n",
              "    </script>\n",
              "  </div>\n",
              "\n",
              "\n",
              "<div id=\"df-1859bfb0-7c86-4280-b4e0-de2b623e48ad\">\n",
              "  <button class=\"colab-df-quickchart\" onclick=\"quickchart('df-1859bfb0-7c86-4280-b4e0-de2b623e48ad')\"\n",
              "            title=\"Suggest charts\"\n",
              "            style=\"display:none;\">\n",
              "\n",
              "<svg xmlns=\"http://www.w3.org/2000/svg\" height=\"24px\"viewBox=\"0 0 24 24\"\n",
              "     width=\"24px\">\n",
              "    <g>\n",
              "        <path d=\"M19 3H5c-1.1 0-2 .9-2 2v14c0 1.1.9 2 2 2h14c1.1 0 2-.9 2-2V5c0-1.1-.9-2-2-2zM9 17H7v-7h2v7zm4 0h-2V7h2v10zm4 0h-2v-4h2v4z\"/>\n",
              "    </g>\n",
              "</svg>\n",
              "  </button>\n",
              "\n",
              "<style>\n",
              "  .colab-df-quickchart {\n",
              "      --bg-color: #E8F0FE;\n",
              "      --fill-color: #1967D2;\n",
              "      --hover-bg-color: #E2EBFA;\n",
              "      --hover-fill-color: #174EA6;\n",
              "      --disabled-fill-color: #AAA;\n",
              "      --disabled-bg-color: #DDD;\n",
              "  }\n",
              "\n",
              "  [theme=dark] .colab-df-quickchart {\n",
              "      --bg-color: #3B4455;\n",
              "      --fill-color: #D2E3FC;\n",
              "      --hover-bg-color: #434B5C;\n",
              "      --hover-fill-color: #FFFFFF;\n",
              "      --disabled-bg-color: #3B4455;\n",
              "      --disabled-fill-color: #666;\n",
              "  }\n",
              "\n",
              "  .colab-df-quickchart {\n",
              "    background-color: var(--bg-color);\n",
              "    border: none;\n",
              "    border-radius: 50%;\n",
              "    cursor: pointer;\n",
              "    display: none;\n",
              "    fill: var(--fill-color);\n",
              "    height: 32px;\n",
              "    padding: 0;\n",
              "    width: 32px;\n",
              "  }\n",
              "\n",
              "  .colab-df-quickchart:hover {\n",
              "    background-color: var(--hover-bg-color);\n",
              "    box-shadow: 0 1px 2px rgba(60, 64, 67, 0.3), 0 1px 3px 1px rgba(60, 64, 67, 0.15);\n",
              "    fill: var(--button-hover-fill-color);\n",
              "  }\n",
              "\n",
              "  .colab-df-quickchart-complete:disabled,\n",
              "  .colab-df-quickchart-complete:disabled:hover {\n",
              "    background-color: var(--disabled-bg-color);\n",
              "    fill: var(--disabled-fill-color);\n",
              "    box-shadow: none;\n",
              "  }\n",
              "\n",
              "  .colab-df-spinner {\n",
              "    border: 2px solid var(--fill-color);\n",
              "    border-color: transparent;\n",
              "    border-bottom-color: var(--fill-color);\n",
              "    animation:\n",
              "      spin 1s steps(1) infinite;\n",
              "  }\n",
              "\n",
              "  @keyframes spin {\n",
              "    0% {\n",
              "      border-color: transparent;\n",
              "      border-bottom-color: var(--fill-color);\n",
              "      border-left-color: var(--fill-color);\n",
              "    }\n",
              "    20% {\n",
              "      border-color: transparent;\n",
              "      border-left-color: var(--fill-color);\n",
              "      border-top-color: var(--fill-color);\n",
              "    }\n",
              "    30% {\n",
              "      border-color: transparent;\n",
              "      border-left-color: var(--fill-color);\n",
              "      border-top-color: var(--fill-color);\n",
              "      border-right-color: var(--fill-color);\n",
              "    }\n",
              "    40% {\n",
              "      border-color: transparent;\n",
              "      border-right-color: var(--fill-color);\n",
              "      border-top-color: var(--fill-color);\n",
              "    }\n",
              "    60% {\n",
              "      border-color: transparent;\n",
              "      border-right-color: var(--fill-color);\n",
              "    }\n",
              "    80% {\n",
              "      border-color: transparent;\n",
              "      border-right-color: var(--fill-color);\n",
              "      border-bottom-color: var(--fill-color);\n",
              "    }\n",
              "    90% {\n",
              "      border-color: transparent;\n",
              "      border-bottom-color: var(--fill-color);\n",
              "    }\n",
              "  }\n",
              "</style>\n",
              "\n",
              "  <script>\n",
              "    async function quickchart(key) {\n",
              "      const quickchartButtonEl =\n",
              "        document.querySelector('#' + key + ' button');\n",
              "      quickchartButtonEl.disabled = true;  // To prevent multiple clicks.\n",
              "      quickchartButtonEl.classList.add('colab-df-spinner');\n",
              "      try {\n",
              "        const charts = await google.colab.kernel.invokeFunction(\n",
              "            'suggestCharts', [key], {});\n",
              "      } catch (error) {\n",
              "        console.error('Error during call to suggestCharts:', error);\n",
              "      }\n",
              "      quickchartButtonEl.classList.remove('colab-df-spinner');\n",
              "      quickchartButtonEl.classList.add('colab-df-quickchart-complete');\n",
              "    }\n",
              "    (() => {\n",
              "      let quickchartButtonEl =\n",
              "        document.querySelector('#df-1859bfb0-7c86-4280-b4e0-de2b623e48ad button');\n",
              "      quickchartButtonEl.style.display =\n",
              "        google.colab.kernel.accessAllowed ? 'block' : 'none';\n",
              "    })();\n",
              "  </script>\n",
              "</div>\n",
              "\n",
              "    </div>\n",
              "  </div>\n"
            ],
            "application/vnd.google.colaboratory.intrinsic+json": {
              "type": "dataframe",
              "variable_name": "df",
              "summary": "{\n  \"name\": \"df\",\n  \"rows\": 825,\n  \"fields\": [\n    {\n      \"column\": \"Filename\",\n      \"properties\": {\n        \"dtype\": \"string\",\n        \"num_unique_values\": 825,\n        \"samples\": [\n          \"output\\\\Heinz\\\\000001.jpg\",\n          \"output\\\\Fila\\\\000003.jpg\",\n          \"genLogoOutput\\\\Nestle\\\\scal_000001.jpg\"\n        ],\n        \"semantic_type\": \"\",\n        \"description\": \"\"\n      }\n    },\n    {\n      \"column\": \"Brand Name\",\n      \"properties\": {\n        \"dtype\": \"category\",\n        \"num_unique_values\": 63,\n        \"samples\": [\n          \"Coca Cola\",\n          \"Apple\",\n          \"Cowbell\"\n        ],\n        \"semantic_type\": \"\",\n        \"description\": \"\"\n      }\n    },\n    {\n      \"column\": \"Label\",\n      \"properties\": {\n        \"dtype\": \"category\",\n        \"num_unique_values\": 2,\n        \"samples\": [\n          \"Fake\",\n          \"Genuine\"\n        ],\n        \"semantic_type\": \"\",\n        \"description\": \"\"\n      }\n    },\n    {\n      \"column\": \"Tagline\",\n      \"properties\": {\n        \"dtype\": \"string\",\n        \"num_unique_values\": 578,\n        \"samples\": [\n          \"explore the closed_book of the creation for the do_good of entirely\",\n          \"information_technology 's the very affair\"\n        ],\n        \"semantic_type\": \"\",\n        \"description\": \"\"\n      }\n    }\n  ]\n}"
            }
          },
          "metadata": {},
          "execution_count": 3
        }
      ]
    },
    {
      "cell_type": "code",
      "source": [
        "# Preprocess the image\n",
        "label_encoder = preprocessing.LabelEncoder()\n",
        "df['Label'] = label_encoder.fit_transform(df['Label'])"
      ],
      "metadata": {
        "execution": {
          "iopub.status.busy": "2023-11-18T09:27:06.621926Z",
          "iopub.execute_input": "2023-11-18T09:27:06.622320Z",
          "iopub.status.idle": "2023-11-18T09:27:06.631220Z",
          "shell.execute_reply.started": "2023-11-18T09:27:06.622291Z",
          "shell.execute_reply": "2023-11-18T09:27:06.629700Z"
        },
        "trusted": true,
        "id": "OVo6OLhAy0n4"
      },
      "execution_count": null,
      "outputs": []
    },
    {
      "cell_type": "code",
      "source": [
        "img = cv2.imread(os.path.join('/content/file_mapping.csv', df['Filename'][6].replace('\\\\', '/')), cv2.COLOR_RGB2BGR)\n",
        "plt.imshow(img)"
      ],
      "metadata": {
        "execution": {
          "iopub.status.busy": "2023-11-18T09:27:08.346517Z",
          "iopub.execute_input": "2023-11-18T09:27:08.347003Z",
          "iopub.status.idle": "2023-11-18T09:27:08.694358Z",
          "shell.execute_reply.started": "2023-11-18T09:27:08.346966Z",
          "shell.execute_reply": "2023-11-18T09:27:08.692933Z"
        },
        "trusted": true,
        "id": "xCPZAhaFy0n4",
        "colab": {
          "base_uri": "https://localhost:8080/",
          "height": 722
        },
        "outputId": "d42ba1ce-4dfb-4284-a5f2-25efdd764cc7"
      },
      "execution_count": null,
      "outputs": [
        {
          "output_type": "error",
          "ename": "TypeError",
          "evalue": "Image data of dtype object cannot be converted to float",
          "traceback": [
            "\u001b[0;31m---------------------------------------------------------------------------\u001b[0m",
            "\u001b[0;31mTypeError\u001b[0m                                 Traceback (most recent call last)",
            "\u001b[0;32m<ipython-input-6-392986400b06>\u001b[0m in \u001b[0;36m<cell line: 2>\u001b[0;34m()\u001b[0m\n\u001b[1;32m      1\u001b[0m \u001b[0mimg\u001b[0m \u001b[0;34m=\u001b[0m \u001b[0mcv2\u001b[0m\u001b[0;34m.\u001b[0m\u001b[0mimread\u001b[0m\u001b[0;34m(\u001b[0m\u001b[0mos\u001b[0m\u001b[0;34m.\u001b[0m\u001b[0mpath\u001b[0m\u001b[0;34m.\u001b[0m\u001b[0mjoin\u001b[0m\u001b[0;34m(\u001b[0m\u001b[0;34m'/content/file_mapping.csv'\u001b[0m\u001b[0;34m,\u001b[0m \u001b[0mdf\u001b[0m\u001b[0;34m[\u001b[0m\u001b[0;34m'Filename'\u001b[0m\u001b[0;34m]\u001b[0m\u001b[0;34m[\u001b[0m\u001b[0;36m6\u001b[0m\u001b[0;34m]\u001b[0m\u001b[0;34m.\u001b[0m\u001b[0mreplace\u001b[0m\u001b[0;34m(\u001b[0m\u001b[0;34m'\\\\'\u001b[0m\u001b[0;34m,\u001b[0m \u001b[0;34m'/'\u001b[0m\u001b[0;34m)\u001b[0m\u001b[0;34m)\u001b[0m\u001b[0;34m,\u001b[0m \u001b[0mcv2\u001b[0m\u001b[0;34m.\u001b[0m\u001b[0mCOLOR_RGB2BGR\u001b[0m\u001b[0;34m)\u001b[0m\u001b[0;34m\u001b[0m\u001b[0;34m\u001b[0m\u001b[0m\n\u001b[0;32m----> 2\u001b[0;31m \u001b[0mplt\u001b[0m\u001b[0;34m.\u001b[0m\u001b[0mimshow\u001b[0m\u001b[0;34m(\u001b[0m\u001b[0mimg\u001b[0m\u001b[0;34m)\u001b[0m\u001b[0;34m\u001b[0m\u001b[0;34m\u001b[0m\u001b[0m\n\u001b[0m",
            "\u001b[0;32m/usr/local/lib/python3.10/dist-packages/matplotlib/pyplot.py\u001b[0m in \u001b[0;36mimshow\u001b[0;34m(X, cmap, norm, aspect, interpolation, alpha, vmin, vmax, origin, extent, interpolation_stage, filternorm, filterrad, resample, url, data, **kwargs)\u001b[0m\n\u001b[1;32m   2693\u001b[0m         \u001b[0minterpolation_stage\u001b[0m\u001b[0;34m=\u001b[0m\u001b[0;32mNone\u001b[0m\u001b[0;34m,\u001b[0m \u001b[0mfilternorm\u001b[0m\u001b[0;34m=\u001b[0m\u001b[0;32mTrue\u001b[0m\u001b[0;34m,\u001b[0m \u001b[0mfilterrad\u001b[0m\u001b[0;34m=\u001b[0m\u001b[0;36m4.0\u001b[0m\u001b[0;34m,\u001b[0m\u001b[0;34m\u001b[0m\u001b[0;34m\u001b[0m\u001b[0m\n\u001b[1;32m   2694\u001b[0m         resample=None, url=None, data=None, **kwargs):\n\u001b[0;32m-> 2695\u001b[0;31m     __ret = gca().imshow(\n\u001b[0m\u001b[1;32m   2696\u001b[0m         \u001b[0mX\u001b[0m\u001b[0;34m,\u001b[0m \u001b[0mcmap\u001b[0m\u001b[0;34m=\u001b[0m\u001b[0mcmap\u001b[0m\u001b[0;34m,\u001b[0m \u001b[0mnorm\u001b[0m\u001b[0;34m=\u001b[0m\u001b[0mnorm\u001b[0m\u001b[0;34m,\u001b[0m \u001b[0maspect\u001b[0m\u001b[0;34m=\u001b[0m\u001b[0maspect\u001b[0m\u001b[0;34m,\u001b[0m\u001b[0;34m\u001b[0m\u001b[0;34m\u001b[0m\u001b[0m\n\u001b[1;32m   2697\u001b[0m         \u001b[0minterpolation\u001b[0m\u001b[0;34m=\u001b[0m\u001b[0minterpolation\u001b[0m\u001b[0;34m,\u001b[0m \u001b[0malpha\u001b[0m\u001b[0;34m=\u001b[0m\u001b[0malpha\u001b[0m\u001b[0;34m,\u001b[0m \u001b[0mvmin\u001b[0m\u001b[0;34m=\u001b[0m\u001b[0mvmin\u001b[0m\u001b[0;34m,\u001b[0m\u001b[0;34m\u001b[0m\u001b[0;34m\u001b[0m\u001b[0m\n",
            "\u001b[0;32m/usr/local/lib/python3.10/dist-packages/matplotlib/__init__.py\u001b[0m in \u001b[0;36minner\u001b[0;34m(ax, data, *args, **kwargs)\u001b[0m\n\u001b[1;32m   1440\u001b[0m     \u001b[0;32mdef\u001b[0m \u001b[0minner\u001b[0m\u001b[0;34m(\u001b[0m\u001b[0max\u001b[0m\u001b[0;34m,\u001b[0m \u001b[0;34m*\u001b[0m\u001b[0margs\u001b[0m\u001b[0;34m,\u001b[0m \u001b[0mdata\u001b[0m\u001b[0;34m=\u001b[0m\u001b[0;32mNone\u001b[0m\u001b[0;34m,\u001b[0m \u001b[0;34m**\u001b[0m\u001b[0mkwargs\u001b[0m\u001b[0;34m)\u001b[0m\u001b[0;34m:\u001b[0m\u001b[0;34m\u001b[0m\u001b[0;34m\u001b[0m\u001b[0m\n\u001b[1;32m   1441\u001b[0m         \u001b[0;32mif\u001b[0m \u001b[0mdata\u001b[0m \u001b[0;32mis\u001b[0m \u001b[0;32mNone\u001b[0m\u001b[0;34m:\u001b[0m\u001b[0;34m\u001b[0m\u001b[0;34m\u001b[0m\u001b[0m\n\u001b[0;32m-> 1442\u001b[0;31m             \u001b[0;32mreturn\u001b[0m \u001b[0mfunc\u001b[0m\u001b[0;34m(\u001b[0m\u001b[0max\u001b[0m\u001b[0;34m,\u001b[0m \u001b[0;34m*\u001b[0m\u001b[0mmap\u001b[0m\u001b[0;34m(\u001b[0m\u001b[0msanitize_sequence\u001b[0m\u001b[0;34m,\u001b[0m \u001b[0margs\u001b[0m\u001b[0;34m)\u001b[0m\u001b[0;34m,\u001b[0m \u001b[0;34m**\u001b[0m\u001b[0mkwargs\u001b[0m\u001b[0;34m)\u001b[0m\u001b[0;34m\u001b[0m\u001b[0;34m\u001b[0m\u001b[0m\n\u001b[0m\u001b[1;32m   1443\u001b[0m \u001b[0;34m\u001b[0m\u001b[0m\n\u001b[1;32m   1444\u001b[0m         \u001b[0mbound\u001b[0m \u001b[0;34m=\u001b[0m \u001b[0mnew_sig\u001b[0m\u001b[0;34m.\u001b[0m\u001b[0mbind\u001b[0m\u001b[0;34m(\u001b[0m\u001b[0max\u001b[0m\u001b[0;34m,\u001b[0m \u001b[0;34m*\u001b[0m\u001b[0margs\u001b[0m\u001b[0;34m,\u001b[0m \u001b[0;34m**\u001b[0m\u001b[0mkwargs\u001b[0m\u001b[0;34m)\u001b[0m\u001b[0;34m\u001b[0m\u001b[0;34m\u001b[0m\u001b[0m\n",
            "\u001b[0;32m/usr/local/lib/python3.10/dist-packages/matplotlib/axes/_axes.py\u001b[0m in \u001b[0;36mimshow\u001b[0;34m(self, X, cmap, norm, aspect, interpolation, alpha, vmin, vmax, origin, extent, interpolation_stage, filternorm, filterrad, resample, url, **kwargs)\u001b[0m\n\u001b[1;32m   5663\u001b[0m                               **kwargs)\n\u001b[1;32m   5664\u001b[0m \u001b[0;34m\u001b[0m\u001b[0m\n\u001b[0;32m-> 5665\u001b[0;31m         \u001b[0mim\u001b[0m\u001b[0;34m.\u001b[0m\u001b[0mset_data\u001b[0m\u001b[0;34m(\u001b[0m\u001b[0mX\u001b[0m\u001b[0;34m)\u001b[0m\u001b[0;34m\u001b[0m\u001b[0;34m\u001b[0m\u001b[0m\n\u001b[0m\u001b[1;32m   5666\u001b[0m         \u001b[0mim\u001b[0m\u001b[0;34m.\u001b[0m\u001b[0mset_alpha\u001b[0m\u001b[0;34m(\u001b[0m\u001b[0malpha\u001b[0m\u001b[0;34m)\u001b[0m\u001b[0;34m\u001b[0m\u001b[0;34m\u001b[0m\u001b[0m\n\u001b[1;32m   5667\u001b[0m         \u001b[0;32mif\u001b[0m \u001b[0mim\u001b[0m\u001b[0;34m.\u001b[0m\u001b[0mget_clip_path\u001b[0m\u001b[0;34m(\u001b[0m\u001b[0;34m)\u001b[0m \u001b[0;32mis\u001b[0m \u001b[0;32mNone\u001b[0m\u001b[0;34m:\u001b[0m\u001b[0;34m\u001b[0m\u001b[0;34m\u001b[0m\u001b[0m\n",
            "\u001b[0;32m/usr/local/lib/python3.10/dist-packages/matplotlib/image.py\u001b[0m in \u001b[0;36mset_data\u001b[0;34m(self, A)\u001b[0m\n\u001b[1;32m    699\u001b[0m         if (self._A.dtype != np.uint8 and\n\u001b[1;32m    700\u001b[0m                 not np.can_cast(self._A.dtype, float, \"same_kind\")):\n\u001b[0;32m--> 701\u001b[0;31m             raise TypeError(\"Image data of dtype {} cannot be converted to \"\n\u001b[0m\u001b[1;32m    702\u001b[0m                             \"float\".format(self._A.dtype))\n\u001b[1;32m    703\u001b[0m \u001b[0;34m\u001b[0m\u001b[0m\n",
            "\u001b[0;31mTypeError\u001b[0m: Image data of dtype object cannot be converted to float"
          ]
        },
        {
          "output_type": "display_data",
          "data": {
            "text/plain": [
              "<Figure size 640x480 with 1 Axes>"
            ],
            "image/png": "[encoded data removed]"
          },
          "metadata": {}
        }
      ]
    },
    {
      "cell_type": "code",
      "source": [
        "IMG_SIZE = 70\n",
        "images = []\n",
        "labels = []\n",
        "\n",
        "for _, row in df.iterrows():\n",
        "    img = cv2.imread(os.path.join('/content/Logos.txt',\n",
        "                                  row['Filename'].replace('\\\\', '/')), )\n",
        "    try:\n",
        "        img_arr = cv2.resize(img, (IMG_SIZE, IMG_SIZE))\n",
        "        image = img_to_array(img_arr)\n",
        "        image = preprocess_input(image)\n",
        "        images.append(image)\n",
        "        labels.append(row['Label'])\n",
        "    except:\n",
        "        continue\n",
        "image_shape = images[0].shape\n",
        "\n",
        "for image in images:\n",
        "    if image.shape != image_shape:\n",
        "        raise ValueError(\"All images must have the same shape.\")\n",
        "\n",
        "images = np.array(images)\n",
        "labels = np.array(labels)"
      ],
      "metadata": {
        "execution": {
          "iopub.status.busy": "2023-11-18T09:27:11.217504Z",
          "iopub.execute_input": "2023-11-18T09:27:11.218021Z",
          "iopub.status.idle": "2023-11-18T09:27:21.459316Z",
          "shell.execute_reply.started": "2023-11-18T09:27:11.217982Z",
          "shell.execute_reply": "2023-11-18T09:27:21.457809Z"
        },
        "trusted": true,
        "id": "fSM_1HpYy0n4",
        "colab": {
          "base_uri": "https://localhost:8080/",
          "height": 211
        },
        "outputId": "ba3d4375-0eee-4a9b-b5c8-b2788660f87c"
      },
      "execution_count": null,
      "outputs": [
        {
          "output_type": "error",
          "ename": "IndexError",
          "evalue": "list index out of range",
          "traceback": [
            "\u001b[0;31m---------------------------------------------------------------------------\u001b[0m",
            "\u001b[0;31mIndexError\u001b[0m                                Traceback (most recent call last)",
            "\u001b[0;32m<ipython-input-8-2f1427310954>\u001b[0m in \u001b[0;36m<cell line: 16>\u001b[0;34m()\u001b[0m\n\u001b[1;32m     14\u001b[0m     \u001b[0;32mexcept\u001b[0m\u001b[0;34m:\u001b[0m\u001b[0;34m\u001b[0m\u001b[0;34m\u001b[0m\u001b[0m\n\u001b[1;32m     15\u001b[0m         \u001b[0;32mcontinue\u001b[0m\u001b[0;34m\u001b[0m\u001b[0;34m\u001b[0m\u001b[0m\n\u001b[0;32m---> 16\u001b[0;31m \u001b[0mimage_shape\u001b[0m \u001b[0;34m=\u001b[0m \u001b[0mimages\u001b[0m\u001b[0;34m[\u001b[0m\u001b[0;36m0\u001b[0m\u001b[0;34m]\u001b[0m\u001b[0;34m.\u001b[0m\u001b[0mshape\u001b[0m\u001b[0;34m\u001b[0m\u001b[0;34m\u001b[0m\u001b[0m\n\u001b[0m\u001b[1;32m     17\u001b[0m \u001b[0;34m\u001b[0m\u001b[0m\n\u001b[1;32m     18\u001b[0m \u001b[0;32mfor\u001b[0m \u001b[0mimage\u001b[0m \u001b[0;32min\u001b[0m \u001b[0mimages\u001b[0m\u001b[0;34m:\u001b[0m\u001b[0;34m\u001b[0m\u001b[0;34m\u001b[0m\u001b[0m\n",
            "\u001b[0;31mIndexError\u001b[0m: list index out of range"
          ]
        }
      ]
    },
    {
      "cell_type": "code",
      "source": [
        "from google.colab import drive\n",
        "drive.mount('/content/drive')"
      ],
      "metadata": {
        "id": "5UKKgZwZiQvA"
      },
      "execution_count": null,
      "outputs": []
    },
    {
      "cell_type": "code",
      "source": [
        "# Normalize pixel values to the range [0, 1]\n",
        "images = np.array(images) / 255.0\n"
      ],
      "metadata": {
        "execution": {
          "iopub.status.busy": "2023-11-18T09:27:21.461456Z",
          "iopub.execute_input": "2023-11-18T09:27:21.461805Z",
          "iopub.status.idle": "2023-11-18T09:27:21.503736Z",
          "shell.execute_reply.started": "2023-11-18T09:27:21.461776Z",
          "shell.execute_reply": "2023-11-18T09:27:21.502372Z"
        },
        "trusted": true,
        "id": "5-_UKRPZy0n5"
      },
      "execution_count": null,
      "outputs": []
    },
    {
      "cell_type": "code",
      "source": [
        "# Split the dataset into train and test sets\n",
        "\n",
        "train_images, test_images, train_labels, test_labels = train_test_split(images, labels, test_size=0.2, random_state=42)\n",
        "test_labels"
      ],
      "metadata": {
        "execution": {
          "iopub.status.busy": "2023-11-18T09:27:23.532171Z",
          "iopub.execute_input": "2023-11-18T09:27:23.532580Z",
          "iopub.status.idle": "2023-11-18T09:27:23.555497Z",
          "shell.execute_reply.started": "2023-11-18T09:27:23.532551Z",
          "shell.execute_reply": "2023-11-18T09:27:23.554117Z"
        },
        "trusted": true,
        "id": "0FjJO_bCy0n5"
      },
      "execution_count": null,
      "outputs": []
    },
    {
      "cell_type": "code",
      "source": [
        "# Build the model\n",
        "base_model = tf.keras.applications.MobileNet(input_shape=(IMG_SIZE, IMG_SIZE, 3), include_top=False, weights='imagenet')\n",
        "x = GlobalAveragePooling2D()(base_model.output)\n",
        "x = Dense(128, activation='relu')(x)\n",
        "output = Dense(1, activation='sigmoid')(x)\n",
        "model = Model(inputs=base_model.input, outputs=output)"
      ],
      "metadata": {
        "execution": {
          "iopub.status.busy": "2023-11-18T09:27:26.545151Z",
          "iopub.execute_input": "2023-11-18T09:27:26.545529Z",
          "iopub.status.idle": "2023-11-18T09:27:28.071304Z",
          "shell.execute_reply.started": "2023-11-18T09:27:26.545501Z",
          "shell.execute_reply": "2023-11-18T09:27:28.069859Z"
        },
        "trusted": true,
        "id": "rPrxFcyNy0n6"
      },
      "execution_count": null,
      "outputs": []
    },
    {
      "cell_type": "code",
      "source": [
        "# Compile the model\n",
        "model.compile(optimizer=tf.keras.optimizers.Adam(learning_rate=0.0001), loss='binary_crossentropy', metrics=['accuracy'])\n",
        "model.summary()"
      ],
      "metadata": {
        "execution": {
          "iopub.status.busy": "2023-11-18T09:27:31.045830Z",
          "iopub.execute_input": "2023-11-18T09:27:31.046727Z",
          "iopub.status.idle": "2023-11-18T09:27:31.323321Z",
          "shell.execute_reply.started": "2023-11-18T09:27:31.046686Z",
          "shell.execute_reply": "2023-11-18T09:27:31.312325Z"
        },
        "trusted": true,
        "id": "42cgr3jpy0n6"
      },
      "execution_count": null,
      "outputs": []
    },
    {
      "cell_type": "code",
      "source": [
        "# Train the model with EarlyStopping\n",
        "early_stopping = EarlyStopping(monitor=\"val_loss\", patience=5, verbose=1, restore_best_weights=True)\n",
        "model.fit(train_images, train_labels, batch_size=32, epochs=10, validation_data=(test_images, test_labels), callbacks=[early_stopping])"
      ],
      "metadata": {
        "execution": {
          "iopub.status.busy": "2023-11-18T09:27:38.494252Z",
          "iopub.execute_input": "2023-11-18T09:27:38.494800Z",
          "iopub.status.idle": "2023-11-18T09:28:44.442861Z",
          "shell.execute_reply.started": "2023-11-18T09:27:38.494761Z",
          "shell.execute_reply": "2023-11-18T09:28:44.441546Z"
        },
        "trusted": true,
        "id": "fc4zV9L1y0n7"
      },
      "execution_count": null,
      "outputs": []
    },
    {
      "cell_type": "code",
      "source": [
        "# Evaluate the model\n",
        "_, accuracy = model.evaluate(test_images, test_labels)\n",
        "print('Test Accuracy:', accuracy)"
      ],
      "metadata": {
        "execution": {
          "iopub.status.busy": "2023-11-18T09:28:58.404258Z",
          "iopub.execute_input": "2023-11-18T09:28:58.404789Z",
          "iopub.status.idle": "2023-11-18T09:28:59.128511Z",
          "shell.execute_reply.started": "2023-11-18T09:28:58.404720Z",
          "shell.execute_reply": "2023-11-18T09:28:59.126454Z"
        },
        "trusted": true,
        "id": "rbu0AFtky0n7"
      },
      "execution_count": null,
      "outputs": []
    },
    {
      "cell_type": "code",
      "source": [
        "# Predictions\n",
        "predictions = model.predict(test_images)\n",
        "y_pred = (predictions > 0.5).astype(int).reshape(-1)"
      ],
      "metadata": {
        "execution": {
          "iopub.status.busy": "2023-11-18T09:29:02.902328Z",
          "iopub.execute_input": "2023-11-18T09:29:02.902764Z",
          "iopub.status.idle": "2023-11-18T09:29:03.902596Z",
          "shell.execute_reply.started": "2023-11-18T09:29:02.902710Z",
          "shell.execute_reply": "2023-11-18T09:29:03.901338Z"
        },
        "trusted": true,
        "id": "KUhIgGOfy0n8"
      },
      "execution_count": null,
      "outputs": []
    },
    {
      "cell_type": "code",
      "source": [
        "print(classification_report(y_pred, test_labels))"
      ],
      "metadata": {
        "execution": {
          "iopub.status.busy": "2023-11-18T09:29:09.530342Z",
          "iopub.execute_input": "2023-11-18T09:29:09.530826Z",
          "iopub.status.idle": "2023-11-18T09:29:09.553302Z",
          "shell.execute_reply.started": "2023-11-18T09:29:09.530794Z",
          "shell.execute_reply": "2023-11-18T09:29:09.551958Z"
        },
        "trusted": true,
        "id": "E6dY3uaNy0n8"
      },
      "execution_count": null,
      "outputs": []
    },
    {
      "cell_type": "code",
      "source": [
        "image_path=\"/kaggle/input/bmw-image\"\n",
        "def preprocess_image(image_path):\n",
        "    img = cv2.imread(image_path)\n",
        "    try:\n",
        "        img_arr = cv2.resize(img, (IMG_SIZE, IMG_SIZE))\n",
        "        image = img_to_array(img_arr)\n",
        "        image = preprocess_input(image)\n",
        "        return image\n",
        "    except Exception as e:\n",
        "        print(f\"Error preprocessing image: {e}\")\n",
        "        return None"
      ],
      "metadata": {
        "execution": {
          "iopub.status.busy": "2023-11-18T09:29:14.042423Z",
          "iopub.execute_input": "2023-11-18T09:29:14.042863Z",
          "iopub.status.idle": "2023-11-18T09:29:14.049136Z",
          "shell.execute_reply.started": "2023-11-18T09:29:14.042830Z",
          "shell.execute_reply": "2023-11-18T09:29:14.048001Z"
        },
        "trusted": true,
        "id": "pLmakt4fy0n8"
      },
      "execution_count": null,
      "outputs": []
    },
    {
      "cell_type": "code",
      "source": [
        "def predict_image(model, image_path):\n",
        "    # Preprocess the image\n",
        "    image = preprocess_image(image_path)\n",
        "    if image is not None:\n",
        "        # Expand dimensions to match the model's expected input shape\n",
        "        image = np.expand_dims(image, axis=0)\n",
        "\n",
        "        # Make prediction\n",
        "        prediction = model.predict(image)\n",
        "\n",
        "        # Convert prediction to binary (0 or 1)\n",
        "        predicted_class = int(prediction > 0.5)\n",
        "\n",
        "        return predicted_class\n",
        "    else:\n",
        "        return None\n"
      ],
      "metadata": {
        "execution": {
          "iopub.status.busy": "2023-11-18T09:29:16.968383Z",
          "iopub.execute_input": "2023-11-18T09:29:16.968840Z",
          "iopub.status.idle": "2023-11-18T09:29:16.976978Z",
          "shell.execute_reply.started": "2023-11-18T09:29:16.968807Z",
          "shell.execute_reply": "2023-11-18T09:29:16.975640Z"
        },
        "trusted": true,
        "id": "f1GJNZlUy0n9"
      },
      "execution_count": null,
      "outputs": []
    },
    {
      "cell_type": "code",
      "source": [
        "\n",
        "# Test the model with user input\n",
        "user_image_path = input(\"Enter the path of the image to test: \")\n",
        "predicted_class = predict_image(model, user_image_path)\n",
        "\n",
        "if predicted_class is not None:\n",
        "    if predicted_class == 1:\n",
        "        print(\"The model predicts the image is Genuine.\")\n",
        "    else:\n",
        "        print(\"The model predicts the image is Fake.\")\n",
        "else:\n",
        "    print(\"Error processing the image.\")"
      ],
      "metadata": {
        "execution": {
          "iopub.status.busy": "2023-11-18T09:29:22.154704Z",
          "iopub.execute_input": "2023-11-18T09:29:22.155212Z",
          "iopub.status.idle": "2023-11-18T09:29:48.233277Z",
          "shell.execute_reply.started": "2023-11-18T09:29:22.155176Z",
          "shell.execute_reply": "2023-11-18T09:29:48.231699Z"
        },
        "trusted": true,
        "id": "UpxTDYC2y0n9"
      },
      "execution_count": null,
      "outputs": []
    },
    {
      "cell_type": "code",
      "source": [],
      "metadata": {
        "id": "WirhLqU4y0n9"
      },
      "execution_count": null,
      "outputs": []
    }
  ]
}